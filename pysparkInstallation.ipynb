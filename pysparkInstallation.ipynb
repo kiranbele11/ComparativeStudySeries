{
 "cells": [
  {
   "cell_type": "markdown",
   "id": "27d81117-cdee-4aee-8228-66817a4d8f4b",
   "metadata": {},
   "source": [
    "## Reading the CSV file in spark dataframe"
   ]
  },
  {
   "cell_type": "code",
   "execution_count": 3,
   "id": "d1f2d858-e425-4ed9-b1e7-729de4f22a3f",
   "metadata": {},
   "outputs": [],
   "source": [
    "from pyspark.sql import SparkSession\n",
    "\n",
    "spark = SparkSession.builder.appName(\"SF fire calls study\").getOrCreate()"
   ]
  },
  {
   "cell_type": "code",
   "execution_count": 6,
   "id": "8a8d1715-21f3-457a-a6b0-43f3f87fb036",
   "metadata": {},
   "outputs": [],
   "source": [
    "df = spark.read.csv(\"./sf-fire-calls.csv\", header=True, inferSchema=True)"
   ]
  },
  {
   "cell_type": "code",
   "execution_count": 5,
   "id": "5f0e959e-35df-4e6d-b3ea-59543073b297",
   "metadata": {},
   "outputs": [
    {
     "name": "stdout",
     "output_type": "stream",
     "text": [
      "+----------+------+--------------+----------------+----------+----------+--------------------+--------------------+--------------------+----+-------+---------+-----------+----+----------------+--------+-------------+-------+-------------+---------+--------------+--------------------------+----------------------+------------------+--------------------+--------------------+-------------+---------+\n",
      "|CallNumber|UnitID|IncidentNumber|        CallType|  CallDate| WatchDate|CallFinalDisposition|       AvailableDtTm|             Address|City|Zipcode|Battalion|StationArea| Box|OriginalPriority|Priority|FinalPriority|ALSUnit|CallTypeGroup|NumAlarms|      UnitType|UnitSequenceInCallDispatch|FirePreventionDistrict|SupervisorDistrict|        Neighborhood|            Location|        RowID|    Delay|\n",
      "+----------+------+--------------+----------------+----------+----------+--------------------+--------------------+--------------------+----+-------+---------+-----------+----+----------------+--------+-------------+-------+-------------+---------+--------------+--------------------------+----------------------+------------------+--------------------+--------------------+-------------+---------+\n",
      "|  20110016|   T13|       2003235|  Structure Fire|01/11/2002|01/10/2002|               Other|01/11/2002 01:51:...|2000 Block of CAL...|  SF|  94109|      B04|         38|3362|               3|       3|            3|  false|         null|        1|         TRUCK|                         2|                     4|                 5|     Pacific Heights|(37.7895840679362...|020110016-T13|     2.95|\n",
      "|  20110022|   M17|       2003241|Medical Incident|01/11/2002|01/10/2002|               Other|01/11/2002 03:01:...|0 Block of SILVER...|  SF|  94124|      B10|         42|6495|               3|       3|            3|   true|         null|        1|         MEDIC|                         1|                    10|                10|Bayview Hunters P...|(37.7337623673897...|020110022-M17|      4.7|\n",
      "|  20110023|   M41|       2003242|Medical Incident|01/11/2002|01/10/2002|               Other|01/11/2002 02:39:...|MARKET ST/MCALLIS...|  SF|  94102|      B03|         01|1455|               3|       3|            3|   true|         null|        1|         MEDIC|                         2|                     3|                 6|          Tenderloin|(37.7811772186856...|020110023-M41|2.4333334|\n",
      "|  20110032|   E11|       2003250|    Vehicle Fire|01/11/2002|01/10/2002|               Other|01/11/2002 04:16:...|APPLETON AV/MISSI...|  SF|  94110|      B06|         32|5626|               3|       3|            3|  false|         null|        1|        ENGINE|                         1|                     6|                 9|      Bernal Heights|(37.7388432849018...|020110032-E11|      1.5|\n",
      "|  20110043|   B04|       2003259|          Alarms|01/11/2002|01/10/2002|               Other|01/11/2002 06:01:...|1400 Block of SUT...|  SF|  94109|      B04|         03|3223|               3|       3|            3|  false|         null|        1|         CHIEF|                         2|                     4|                 2|    Western Addition|(37.7872890372638...|020110043-B04|3.4833333|\n",
      "|  20110072|   T08|       2003279|  Structure Fire|01/11/2002|01/11/2002|               Other|01/11/2002 08:03:...|  BEALE ST/FOLSOM ST|  SF|  94105|      B03|         35|2122|               3|       3|            3|  false|         null|        1|         TRUCK|                         2|                     3|                 6|Financial Distric...|(37.7886866619654...|020110072-T08|     1.75|\n",
      "|  20110125|   E33|       2003301|          Alarms|01/11/2002|01/11/2002|               Other|01/11/2002 09:46:...|0 Block of FARALL...|  SF|  94112|      B09|         33|8324|               3|       3|            3|  false|         null|        1|        ENGINE|                         2|                     9|                11|Oceanview/Merced/...|(37.7140353531157...|020110125-E33|2.7166667|\n",
      "|  20110130|   E36|       2003304|          Alarms|01/11/2002|01/11/2002|               Other|01/11/2002 09:58:...|600 Block of POLK ST|  SF|  94102|      B02|         03|3114|               3|       3|            3|  false|         null|        1|        ENGINE|                         1|                     2|                 6|          Tenderloin|(37.7826266328595...|020110130-E36|1.7833333|\n",
      "|  20110197|   E05|       2003343|Medical Incident|01/11/2002|01/11/2002|               Other|01/11/2002 12:06:...|1500 Block of WEB...|  SF|  94115|      B04|         05|3513|               3|       3|            3|  false|         null|        1|        ENGINE|                         1|                     4|                 5|           Japantown|(37.784958590666,...|020110197-E05|1.5166667|\n",
      "|  20110215|   E06|       2003348|Medical Incident|01/11/2002|01/11/2002|               Other|01/11/2002 01:08:...|DIAMOND ST/MARKET ST|  SF|  94114|      B05|         06|5415|               3|       3|            3|  false|         null|        1|        ENGINE|                         1|                     5|                 8| Castro/Upper Market|(37.7618954753708...|020110215-E06|2.7666667|\n",
      "|  20110274|   M07|       2003381|Medical Incident|01/11/2002|01/11/2002|               Other|01/11/2002 03:31:...|2700 Block of MIS...|  SF|  94110|      B06|         11|5525|               1|       1|            2|   true|         null|        1|         MEDIC|                         1|                     6|                 9|             Mission|(37.7530339738059...|020110274-M07|2.1833334|\n",
      "|  20110275|   T15|       2003382|  Structure Fire|01/11/2002|01/11/2002|               Other|01/11/2002 02:59:...|BRUNSWICK ST/GUTT...|  SF|  94112|      B09|         43|6218|               3|       3|            3|  false|         null|        1|         TRUCK|                         1|                     9|                11|           Excelsior|(37.7105545807996...|020110275-T15|      2.5|\n",
      "|  20110304|   E03|       2003399|Medical Incident|01/11/2002|01/11/2002|               Other|01/11/2002 04:22:...|1000 Block of SUT...|  SF|  94109|      B04|         03|1557|               3|       3|            3|  false|         null|        1|        ENGINE|                         1|                     4|                 3|            Nob Hill|(37.7881263034393...|020110304-E03|2.4166667|\n",
      "|  20110308|   E14|       2003403|Medical Incident|01/11/2002|01/11/2002|               Other|01/11/2002 04:18:...|100 Block of 21ST...|  SF|  94121|      B07|         14|7173|               3|       3|            3|  false|         null|        1|        ENGINE|                         1|                     7|                 1|      Outer Richmond|(37.7850084431077...|020110308-E14|     4.95|\n",
      "|  20110313|   B10|       2003408|  Structure Fire|01/11/2002|01/11/2002|               Other|01/11/2002 04:09:...|700 Block of CAPP ST|  SF|  94110|      B06|         07|5472|               3|       3|            3|  false|         null|        1|         CHIEF|                         6|                     6|                 9|             Mission|(37.7547064357942...|020110313-B10|1.4166666|\n",
      "|  20110313|    D3|       2003408|  Structure Fire|01/11/2002|01/11/2002|               Other|01/11/2002 04:09:...|700 Block of CAPP ST|  SF|  94110|      B06|         07|5472|               3|       3|            3|  false|         null|        1|         CHIEF|                         4|                     6|                 9|             Mission|(37.7547064357942...| 020110313-D3|2.5333333|\n",
      "|  20110313|   E32|       2003408|  Structure Fire|01/11/2002|01/11/2002|               Other|01/11/2002 04:09:...|700 Block of CAPP ST|  SF|  94110|      B06|         07|5472|               3|       3|            3|   true|         null|        1|        ENGINE|                         8|                     6|                 9|             Mission|(37.7547064357942...|020110313-E32|1.8833333|\n",
      "|  20110315|   RC2|       2003409|Medical Incident|01/11/2002|01/11/2002|               Other|01/11/2002 04:34:...|200 Block of LAGU...|  SF|  94116|      B08|         20|8635|               3|       3|            3|   true|         null|        1|RESCUE CAPTAIN|                         2|                     8|                 7|  West of Twin Peaks|(37.7501117393668...|020110315-RC2|     5.35|\n",
      "|  20110330|   E14|       2003417|Medical Incident|01/11/2002|01/11/2002|               Other|01/11/2002 04:51:...|BALBOA ST/PARK PR...|  SF|  94118|      B07|         31|7145|               3|       3|            3|  false|         null|        1|        ENGINE|                         1|                     7|                 1|      Inner Richmond|(37.7768682293368...|020110330-E14|      2.0|\n",
      "|  20110330|   M12|       2003417|Medical Incident|01/11/2002|01/11/2002|               Other|01/11/2002 04:51:...|BALBOA ST/PARK PR...|  SF|  94118|      B07|         31|7145|               3|       3|            3|   true|         null|        1|         MEDIC|                         2|                     7|                 1|      Inner Richmond|(37.7768682293368...|020110330-M12|1.8166667|\n",
      "+----------+------+--------------+----------------+----------+----------+--------------------+--------------------+--------------------+----+-------+---------+-----------+----+----------------+--------+-------------+-------+-------------+---------+--------------+--------------------------+----------------------+------------------+--------------------+--------------------+-------------+---------+\n",
      "only showing top 20 rows\n",
      "\n"
     ]
    },
    {
     "name": "stderr",
     "output_type": "stream",
     "text": [
      "24/01/22 13:27:44 WARN package: Truncated the string representation of a plan since it was too large. This behavior can be adjusted by setting 'spark.sql.debug.maxToStringFields'.\n"
     ]
    }
   ],
   "source": [
    "df.show()"
   ]
  },
  {
   "cell_type": "markdown",
   "id": "f64edeb5-9f3a-420f-a86d-cef646b7d87a",
   "metadata": {},
   "source": [
    "# <span style=\"color:red\">Question 1:</span> What were the different types of fire calls in 2018"
   ]
  },
  {
   "cell_type": "code",
   "execution_count": 59,
   "id": "d858a5aa-7814-444a-a0ae-cfd7035d6051",
   "metadata": {},
   "outputs": [
    {
     "name": "stdout",
     "output_type": "stream",
     "text": [
      "+----------------+\n",
      "|        CallType|\n",
      "+----------------+\n",
      "|  Structure Fire|\n",
      "|Medical Incident|\n",
      "|Medical Incident|\n",
      "|    Vehicle Fire|\n",
      "|          Alarms|\n",
      "|  Structure Fire|\n",
      "|          Alarms|\n",
      "|          Alarms|\n",
      "|Medical Incident|\n",
      "|Medical Incident|\n",
      "|Medical Incident|\n",
      "|  Structure Fire|\n",
      "|Medical Incident|\n",
      "|Medical Incident|\n",
      "|  Structure Fire|\n",
      "|  Structure Fire|\n",
      "|  Structure Fire|\n",
      "|Medical Incident|\n",
      "|Medical Incident|\n",
      "|Medical Incident|\n",
      "+----------------+\n",
      "only showing top 20 rows\n",
      "\n"
     ]
    }
   ],
   "source": [
    "df_call_type = df.select(\"CallType\").show()\n",
    "df_call_type"
   ]
  },
  {
   "cell_type": "code",
   "execution_count": 82,
   "id": "d295ec0f-4782-4d04-8a91-abe8b3010235",
   "metadata": {},
   "outputs": [],
   "source": [
    "from pyspark.sql.functions import to_date,month\n",
    "from pyspark.sql.functions import year\n",
    "\n",
    "df_with_year = df.withColumn(\"CallDate\", to_date(df[\"CallDate\"], \"MM/dd/yyyy\"))\n",
    "#df_with_year.select(\"CallDate\").distinct().show()\n",
    "\n",
    "df_with_year = df_with_year.withColumn(\"CallYear\", year(df_with_year[\"CallDate\"]))\n",
    "#df_with_year.select(\"CallYear\").show()\n",
    "\n",
    "df_with_year = df_with_year.filter(df_with_year[\"CallYear\"] == 2018)"
   ]
  },
  {
   "cell_type": "code",
   "execution_count": 73,
   "id": "4173dd76-a86b-40f9-a803-758f9a72c8e2",
   "metadata": {},
   "outputs": [
    {
     "name": "stdout",
     "output_type": "stream",
     "text": [
      "+--------------------+\n",
      "|            CallType|\n",
      "+--------------------+\n",
      "|Elevator / Escala...|\n",
      "|              Alarms|\n",
      "|Odor (Strange / U...|\n",
      "|Citizen Assist / ...|\n",
      "|              HazMat|\n",
      "|        Vehicle Fire|\n",
      "|               Other|\n",
      "|        Outside Fire|\n",
      "|   Traffic Collision|\n",
      "|       Assist Police|\n",
      "|Gas Leak (Natural...|\n",
      "|        Water Rescue|\n",
      "|   Electrical Hazard|\n",
      "|      Structure Fire|\n",
      "|    Medical Incident|\n",
      "|          Fuel Spill|\n",
      "|Smoke Investigati...|\n",
      "|Train / Rail Inci...|\n",
      "|           Explosion|\n",
      "|  Suspicious Package|\n",
      "+--------------------+\n",
      "\n"
     ]
    }
   ],
   "source": [
    "df_with_year.select(\"CallType\").distinct().show()"
   ]
  },
  {
   "cell_type": "markdown",
   "id": "ec63aeda-8b40-4bc6-9626-439de7164e4c",
   "metadata": {},
   "source": [
    "# <span style=\"color:red\">Question 2:</span> What month in 2018 saw the highest number of fire calls"
   ]
  },
  {
   "cell_type": "code",
   "execution_count": 113,
   "id": "cdacc424-3daf-400b-b7a4-d3d26717119c",
   "metadata": {},
   "outputs": [],
   "source": [
    "from pyspark.sql.functions import to_date,month\n",
    "from pyspark.sql.functions import *"
   ]
  },
  {
   "cell_type": "code",
   "execution_count": 114,
   "id": "e4d834f2-265b-422a-86c6-7276d6efc987",
   "metadata": {},
   "outputs": [],
   "source": [
    "df_month_fire_calls = df_with_year.groupBy(month(\"CallDate\").alias(\"month\")).agg(count(\"UnitID\").alias(\"sum_fire_calls\"))"
   ]
  },
  {
   "cell_type": "code",
   "execution_count": 115,
   "id": "87918ffc-00da-4ec5-bbe5-5ef9dfbca586",
   "metadata": {},
   "outputs": [
    {
     "name": "stdout",
     "output_type": "stream",
     "text": [
      "root\n",
      " |-- month: integer (nullable = true)\n",
      " |-- sum_fire_calls: long (nullable = false)\n",
      "\n"
     ]
    }
   ],
   "source": [
    "df_month_fire_calls.printSchema()"
   ]
  },
  {
   "cell_type": "code",
   "execution_count": 116,
   "id": "dbe89aa5-2109-497c-9afa-5f853acb71ac",
   "metadata": {},
   "outputs": [
    {
     "name": "stdout",
     "output_type": "stream",
     "text": [
      "+-----+--------------+\n",
      "|month|sum_fire_calls|\n",
      "+-----+--------------+\n",
      "|   10|          1068|\n",
      "|    5|          1047|\n",
      "|    3|          1029|\n",
      "|    8|          1021|\n",
      "|    1|          1007|\n",
      "|    6|           974|\n",
      "|    7|           974|\n",
      "|    9|           951|\n",
      "|    4|           947|\n",
      "|    2|           919|\n",
      "|   11|           199|\n",
      "+-----+--------------+\n",
      "\n"
     ]
    }
   ],
   "source": [
    "df_month_fire_calls.sort(desc(\"sum_fire_calls\")).show()"
   ]
  },
  {
   "cell_type": "markdown",
   "id": "2abe06f7-05cf-4d0c-9d4c-c2633884aac7",
   "metadata": {},
   "source": [
    "# <span style=\"color:red\">Question 3:</span> Which neighborhodd in SF generated the most number of fire calls in 2018"
   ]
  },
  {
   "cell_type": "code",
   "execution_count": 120,
   "id": "5d61bc06-c38d-4910-ad02-85bfaaf0a4cd",
   "metadata": {},
   "outputs": [
    {
     "name": "stdout",
     "output_type": "stream",
     "text": [
      "root\n",
      " |-- Neighborhood: string (nullable = true)\n",
      " |-- most_fire_calls: long (nullable = false)\n",
      "\n"
     ]
    }
   ],
   "source": [
    "df_Neighborhood_fire_calls = df_with_year.groupBy(\"Neighborhood\").agg(count(\"UnitID\").alias(\"most_fire_calls\"))\n",
    "df_Neighborhood_fire_calls.printSchema()"
   ]
  },
  {
   "cell_type": "code",
   "execution_count": 124,
   "id": "0129ebac-cf94-485d-bddb-c0aa51a7647a",
   "metadata": {},
   "outputs": [
    {
     "name": "stdout",
     "output_type": "stream",
     "text": [
      "+--------------------+---------------+\n",
      "|        Neighborhood|most_fire_calls|\n",
      "+--------------------+---------------+\n",
      "|          Tenderloin|           1393|\n",
      "|     South of Market|           1053|\n",
      "|             Mission|            913|\n",
      "|Financial Distric...|            772|\n",
      "|Bayview Hunters P...|            522|\n",
      "|    Western Addition|            352|\n",
      "|     Sunset/Parkside|            346|\n",
      "|            Nob Hill|            295|\n",
      "|        Hayes Valley|            291|\n",
      "|      Outer Richmond|            262|\n",
      "| Castro/Upper Market|            251|\n",
      "|         North Beach|            231|\n",
      "|           Excelsior|            212|\n",
      "|  West of Twin Peaks|            210|\n",
      "|        Potrero Hill|            210|\n",
      "|           Chinatown|            191|\n",
      "|     Pacific Heights|            191|\n",
      "|              Marina|            191|\n",
      "|         Mission Bay|            178|\n",
      "|      Bernal Heights|            170|\n",
      "+--------------------+---------------+\n",
      "only showing top 20 rows\n",
      "\n"
     ]
    }
   ],
   "source": [
    "df_Neighborhood_fire_calls.sort(desc(\"most_fire_calls\")).show()"
   ]
  },
  {
   "cell_type": "code",
   "execution_count": null,
   "id": "6befa57e-1816-415c-886b-0edb207c4b6e",
   "metadata": {},
   "outputs": [],
   "source": [
    "df_Neighborhood_fire_calls"
   ]
  },
  {
   "cell_type": "code",
   "execution_count": 132,
   "id": "6c8ed362-bdaf-4733-acf4-5cf949004f01",
   "metadata": {},
   "outputs": [
    {
     "name": "stdout",
     "output_type": "stream",
     "text": [
      "+------------+---------------+\n",
      "|Neighborhood|most_fire_calls|\n",
      "+------------+---------------+\n",
      "|    Presidio|             69|\n",
      "+------------+---------------+\n",
      "\n"
     ]
    }
   ],
   "source": [
    "df_Neighborhood_fire_calls.where(df_Neighborhood_fire_calls.Neighborhood=='Presidio').show() "
   ]
  },
  {
   "cell_type": "markdown",
   "id": "688fc030-d6ed-4352-81ff-7e28182a6fb2",
   "metadata": {},
   "source": [
    "# <span style=\"color:red\">Question 4:</span> Which neighborhodd in SF had the worst response time for fire calls in 2018"
   ]
  },
  {
   "cell_type": "code",
   "execution_count": 129,
   "id": "3cc417ea-8e49-4ef7-aca8-5ddd4896200a",
   "metadata": {},
   "outputs": [
    {
     "name": "stdout",
     "output_type": "stream",
     "text": [
      "root\n",
      " |-- Neighborhood: string (nullable = true)\n",
      " |-- Delayed_fire_calls: double (nullable = true)\n",
      "\n"
     ]
    }
   ],
   "source": [
    "df_Delayed_fire_calls = df_with_year.groupBy(\"Neighborhood\").agg(mean(\"Delay\").alias(\"Delayed_fire_calls\"))\n",
    "df_Delayed_fire_calls.printSchema()"
   ]
  },
  {
   "cell_type": "code",
   "execution_count": 130,
   "id": "f60f740e-b7c7-409d-9c9e-419fbb8547d9",
   "metadata": {},
   "outputs": [
    {
     "name": "stdout",
     "output_type": "stream",
     "text": [
      "+--------------------+------------------+\n",
      "|        Neighborhood|Delayed_fire_calls|\n",
      "+--------------------+------------------+\n",
      "|           Chinatown| 6.190314097905762|\n",
      "|            Presidio|5.8292270414492755|\n",
      "|     Treasure Island|      5.4537037125|\n",
      "|        McLaren Park| 4.744047642857142|\n",
      "|Bayview Hunters P...|4.6205619568773955|\n",
      "|    Presidio Heights| 4.594131472394366|\n",
      "|        Inner Sunset| 4.438095199935065|\n",
      "|      Inner Richmond| 4.364728682713178|\n",
      "|Financial Distric...| 4.344084618290156|\n",
      "|      Haight Ashbury| 4.266428599285714|\n",
      "|            Seacliff| 4.261111146666666|\n",
      "|  West of Twin Peaks| 4.190952390857142|\n",
      "|        Potrero Hill| 4.190555557428572|\n",
      "|     Pacific Heights| 4.180453718900524|\n",
      "|          Tenderloin| 4.101519516597271|\n",
      "|Oceanview/Merced/...| 3.947242180719425|\n",
      "|           Excelsior|3.9363993797169807|\n",
      "|         North Beach|  3.88924964034632|\n",
      "|           Lakeshore|3.8815513650943387|\n",
      "|         Mission Bay| 3.854868952191012|\n",
      "+--------------------+------------------+\n",
      "only showing top 20 rows\n",
      "\n"
     ]
    }
   ],
   "source": [
    "df_Delayed_fire_calls.sort(desc(\"Delayed_fire_calls\")).show()"
   ]
  }
 ],
 "metadata": {
  "kernelspec": {
   "display_name": "Python 3 (ipykernel)",
   "language": "python",
   "name": "python3"
  },
  "language_info": {
   "codemirror_mode": {
    "name": "ipython",
    "version": 3
   },
   "file_extension": ".py",
   "mimetype": "text/x-python",
   "name": "python",
   "nbconvert_exporter": "python",
   "pygments_lexer": "ipython3",
   "version": "3.9.12"
  }
 },
 "nbformat": 4,
 "nbformat_minor": 5
}
